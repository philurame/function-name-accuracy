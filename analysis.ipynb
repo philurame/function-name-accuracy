{
 "cells": [
  {
   "cell_type": "code",
   "execution_count": 2,
   "metadata": {},
   "outputs": [],
   "source": [
    "import numpy as np\n",
    "import pickle\n",
    "import matplotlib.pyplot as plt\n",
    "\n",
    "DATA_PATH = 'data/'\n",
    "\n",
    "with open(DATA_PATH+'X_test_tokens.txt', 'r') as file: # данные с токенами (до embedding'а)\n",
    "    X_test = file.read().split('^')[:-1]\n",
    "\n",
    "with open(DATA_PATH+'y_pred.pkl', 'rb') as file: # предсказания модели на тестовом датасете x_test\n",
    "    y_pred = pickle.load(file)\n",
    "    \n",
    "y_test = np.loadtxt(DATA_PATH+'y_test.txt', dtype=int) # настоящие метки после embedding'а\n",
    "\n",
    "# # x_test и Y_test нам ни к чему, но можно посмотреть как они выглядят\n",
    "# with open(DATA_PATH+'Y_test_tokens.txt', 'r') as file:\n",
    "#     Y_test = file.read().split('^')[:-1]\n",
    "# x_test = np.loadtxt(DATA_PATH+'x_test.txt', dtype=int)\n",
    "\n",
    "lens    = np.array([len(X_test[i].split(',')) for i in range(len(X_test))]) # количества токенов\n",
    "is_shot = np.argmax(y_pred, axis=1) == np.argmax(y_test, axis=1)             # правильные предсказания модели"
   ]
  },
  {
   "cell_type": "code",
   "execution_count": 3,
   "metadata": {},
   "outputs": [
    {
     "data": {
      "image/png": "[encoded data removed]",
      "text/plain": [
       "<Figure size 432x288 with 1 Axes>"
      ]
     },
     "metadata": {
      "needs_background": "light"
     },
     "output_type": "display_data"
    }
   ],
   "source": [
    "# так выглядит распределение количества токенов на функцию в данном (тестовом) датасете\n",
    "plt.hist(lens[lens<200], bins = 100);"
   ]
  },
  {
   "cell_type": "markdown",
   "metadata": {},
   "source": [
    "разобьем всю выборку на три подвыборки примерно одинаковые по длине,\\\n",
    "данные выборки соответствуют меньшему количеству токенов в функции, околомедианному количеству и большему."
   ]
  },
  {
   "cell_type": "code",
   "execution_count": 4,
   "metadata": {},
   "outputs": [
    {
     "name": "stdout",
     "output_type": "stream",
     "text": [
      "размеры подвыборок: 9981 10149 9894\n"
     ]
    }
   ],
   "source": [
    "# отсечем 'выбросы' 0.97-квантилем\n",
    "low, mid, high = np.quantile(lens, [0.32,0.65, 0.97])\n",
    "\n",
    "mask_low = lens<=low\n",
    "mask_mid = (lens>low) & (lens<=mid)\n",
    "mask_high = (lens>mid) & (lens<high)\n",
    "print('размеры подвыборок:',sum(mask_low), sum(mask_mid), sum(mask_high))"
   ]
  },
  {
   "cell_type": "markdown",
   "metadata": {},
   "source": [
    "теперь чтобы проверить гипотезы на одинаковость средних accuracy, аггрегируем подвыборки по batch штук и на каждой посчитаем accuracy"
   ]
  },
  {
   "cell_type": "code",
   "execution_count": 5,
   "metadata": {},
   "outputs": [
    {
     "name": "stdout",
     "output_type": "stream",
     "text": [
      "размеры аггрегированных выборок: 20 21 20\n",
      "средние значения: 0.748 0.846 0.767\n"
     ]
    }
   ],
   "source": [
    "def get_accs(mask, batch):\n",
    "    accs  = [sum(is_shot[mask][i:i+batch])/batch for i in range(0, sum(mask)-batch, batch)]\n",
    "    resid = sum(mask)%batch\n",
    "    accs.append(sum(is_shot[mask][-resid:])/resid)\n",
    "    return accs\n",
    "\n",
    "batch = 500\n",
    "low_accs, mid_accs, high_accs = get_accs(mask_low, batch), get_accs(mask_mid, batch), get_accs(mask_high, batch)\n",
    "print('размеры аггрегированных выборок:',len(low_accs), len(mid_accs), len(high_accs))\n",
    "print('средние значения:',round(np.mean(low_accs),3), round(np.mean(mid_accs),3), round(np.mean(high_accs),3))"
   ]
  },
  {
   "cell_type": "code",
   "execution_count": 6,
   "metadata": {},
   "outputs": [
    {
     "data": {
      "image/png": "[encoded data removed]",
      "text/plain": [
       "<Figure size 432x288 with 1 Axes>"
      ]
     },
     "metadata": {
      "needs_background": "light"
     },
     "output_type": "display_data"
    }
   ],
   "source": [
    "# нарисуем распределения accuracy для наглядности\n",
    "ax = plt.subplot()\n",
    "ax.hist(low_accs,  bins = 50, label = 'low')\n",
    "ax.hist(mid_accs,  bins = 50, label = 'mid')\n",
    "ax.hist(high_accs, bins = 50, label = 'high')\n",
    "plt.xlabel('accuracy')\n",
    "plt.legend()\n",
    "plt.show()"
   ]
  },
  {
   "cell_type": "markdown",
   "metadata": {},
   "source": [
    "так как про распределение предсказанных результатов можно сказать очень мало,\\\n",
    "то воспользуемся непараметрическим тестом Mann-Whitney U rank test для гипотезы H0: распределение выборок совпадает\\\n",
    "он часто используется в качестве теста на разницу в матожидании между выюорками."
   ]
  },
  {
   "cell_type": "code",
   "execution_count": 7,
   "metadata": {},
   "outputs": [
    {
     "data": {
      "text/plain": [
       "(4.576059818966736e-08, 4.5822145927833645e-08, 0.0016088594459584514)"
      ]
     },
     "execution_count": 7,
     "metadata": {},
     "output_type": "execute_result"
    }
   ],
   "source": [
    "from scipy.stats import mannwhitneyu\n",
    "_, p1 = mannwhitneyu(low_accs, mid_accs,  method=\"asymptotic\")\n",
    "_, p2 = mannwhitneyu(mid_accs, high_accs, method=\"asymptotic\")\n",
    "_, p3 = mannwhitneyu(low_accs, high_accs, method=\"asymptotic\")\n",
    "p1, p2, p3 # все p-values < 0.05 => можем отвергнуть H0"
   ]
  },
  {
   "cell_type": "markdown",
   "metadata": {},
   "source": [
    "таким образом получили, что для данной модели и для выбранных данных статистически значимым является результат:\\\n",
    "при большем количестве токенов на функцию accuracy выше, но при слишком большом количестве accuracy уменьшается."
   ]
  }
 ],
 "metadata": {
  "kernelspec": {
   "display_name": "Python 3",
   "language": "python",
   "name": "python3"
  },
  "language_info": {
   "codemirror_mode": {
    "name": "ipython",
    "version": 3
   },
   "file_extension": ".py",
   "mimetype": "text/x-python",
   "name": "python",
   "nbconvert_exporter": "python",
   "pygments_lexer": "ipython3",
   "version": "3.10.5"
  },
  "orig_nbformat": 4
 },
 "nbformat": 4,
 "nbformat_minor": 2
}
