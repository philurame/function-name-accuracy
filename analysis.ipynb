{
 "cells": [
  {
   "cell_type": "code",
   "execution_count": 1,
   "metadata": {},
   "outputs": [],
   "source": [
    "import numpy as np\n",
    "import pickle\n",
    "import matplotlib.pyplot as plt\n",
    "\n",
    "DATA_PATH = 'data/'\n",
    "\n",
    "with open(DATA_PATH+'X_test_tokens.txt', 'r') as file: # data with tokens\n",
    "    X_test = file.read().split('^')[:-1]\n",
    "\n",
    "with open(DATA_PATH+'y_pred.pkl', 'rb') as file: # predictions for the dataset x_test\n",
    "    y_pred = pickle.load(file)\n",
    "    \n",
    "y_test = np.loadtxt(DATA_PATH+'y_test.txt', dtype=int) # true one-hot labels\n",
    "\n",
    "# # we dont need x_test and Y_test for now, but you can check them\n",
    "# with open(DATA_PATH+'Y_test_tokens.txt', 'r') as file:\n",
    "#     Y_test = file.read().split('^')[:-1]\n",
    "# x_test = np.loadtxt(DATA_PATH+'x_test.txt', dtype=int)\n",
    "\n",
    "lens    = np.array([len(X_test[i].split(',')) for i in range(len(X_test))])  # number of tokens\n",
    "is_shot = np.argmax(y_pred, axis=1) == np.argmax(y_test, axis=1)             # true predictions of the model"
   ]
  },
  {
   "cell_type": "code",
   "execution_count": 12,
   "metadata": {},
   "outputs": [
    {
     "data": {
      "image/png": "[encoded data removed]",
      "text/plain": [
       "<Figure size 432x288 with 1 Axes>"
      ]
     },
     "metadata": {
      "needs_background": "light"
     },
     "output_type": "display_data"
    }
   ],
   "source": [
    "# distribution of the longths of functions\n",
    "plt.hist(lens[lens<200], bins = 100)\n",
    "plt.xlabel('number of tokens in a function');"
   ]
  },
  {
   "cell_type": "markdown",
   "metadata": {},
   "source": [
    "divide the whole sample into three subsamples of approximately equal length,\\\n",
    "these samples correspond to the smaller number of tokens in the function, the near-median number and the larger number."
   ]
  },
  {
   "cell_type": "code",
   "execution_count": 10,
   "metadata": {},
   "outputs": [
    {
     "name": "stdout",
     "output_type": "stream",
     "text": [
      "sizes of subsamples: 9981 10149 9894\n"
     ]
    }
   ],
   "source": [
    "# cut 'outliers' using 0.97-quantile\n",
    "low, mid, high = np.quantile(lens, [0.32,0.65, 0.97])\n",
    "\n",
    "mask_low = lens<=low\n",
    "mask_mid = (lens>low) & (lens<=mid)\n",
    "mask_high = (lens>mid) & (lens<high)\n",
    "print('sizes of subsamples:',sum(mask_low), sum(mask_mid), sum(mask_high))"
   ]
  },
  {
   "cell_type": "markdown",
   "metadata": {},
   "source": [
    "Now, to test the hypotheses that the average accuracy is the same\\\n",
    "let's aggregate the subsamples by batch of pieces and on each of them we will calculate accuracy"
   ]
  },
  {
   "cell_type": "code",
   "execution_count": 11,
   "metadata": {},
   "outputs": [
    {
     "name": "stdout",
     "output_type": "stream",
     "text": [
      "Aggregated sample sizes: 20 21 20\n",
      "Mean accuracy: 0.748 0.846 0.767\n"
     ]
    }
   ],
   "source": [
    "def get_accs(mask, batch):\n",
    "    accs  = [sum(is_shot[mask][i:i+batch])/batch for i in range(0, sum(mask)-batch, batch)]\n",
    "    resid = sum(mask)%batch\n",
    "    accs.append(sum(is_shot[mask][-resid:])/resid)\n",
    "    return accs\n",
    "\n",
    "batch = 500\n",
    "low_accs, mid_accs, high_accs = get_accs(mask_low, batch), get_accs(mask_mid, batch), get_accs(mask_high, batch)\n",
    "print('Aggregated sample sizes:',len(low_accs), len(mid_accs), len(high_accs))\n",
    "print('Mean accuracy:',round(np.mean(low_accs),3), round(np.mean(mid_accs),3), round(np.mean(high_accs),3))"
   ]
  },
  {
   "cell_type": "code",
   "execution_count": 6,
   "metadata": {},
   "outputs": [
    {
     "data": {
      "image/png": "[encoded data removed]",
      "text/plain": [
       "<Figure size 432x288 with 1 Axes>"
      ]
     },
     "metadata": {
      "needs_background": "light"
     },
     "output_type": "display_data"
    }
   ],
   "source": [
    "# нарисуем распределения accuracy для наглядности\n",
    "ax = plt.subplot()\n",
    "ax.hist(low_accs,  bins = 50, label = 'low')\n",
    "ax.hist(mid_accs,  bins = 50, label = 'mid')\n",
    "ax.hist(high_accs, bins = 50, label = 'high')\n",
    "plt.xlabel('accuracy')\n",
    "plt.legend()\n",
    "plt.show()"
   ]
  },
  {
   "cell_type": "markdown",
   "metadata": {},
   "source": [
    "Since we can say very little about the distribution of the predicted results,\\\n",
    "we will use the nonparametric Mann-Whitney U rank test for hypothesis H0: the distribution of samples is the same.\\\n",
    "It is often used as a test for the difference in expectation between samples."
   ]
  },
  {
   "cell_type": "code",
   "execution_count": 7,
   "metadata": {},
   "outputs": [
    {
     "data": {
      "text/plain": [
       "(4.576059818966736e-08, 4.5822145927833645e-08, 0.0016088594459584514)"
      ]
     },
     "execution_count": 7,
     "metadata": {},
     "output_type": "execute_result"
    }
   ],
   "source": [
    "from scipy.stats import mannwhitneyu\n",
    "_, p1 = mannwhitneyu(low_accs, mid_accs,  method=\"asymptotic\")\n",
    "_, p2 = mannwhitneyu(mid_accs, high_accs, method=\"asymptotic\")\n",
    "_, p3 = mannwhitneyu(low_accs, high_accs, method=\"asymptotic\")\n",
    "p1, p2, p3 # all p-values < 0.05 => we can reject H0"
   ]
  },
  {
   "cell_type": "markdown",
   "metadata": {},
   "source": [
    "thus we obtained that for the given model and for the selected data the result is statistically significant:\\\n",
    "with more tokens per function accuracy is higher, but with too many tokens accuracy decreases."
   ]
  }
 ],
 "metadata": {
  "kernelspec": {
   "display_name": "Python 3",
   "language": "python",
   "name": "python3"
  },
  "language_info": {
   "codemirror_mode": {
    "name": "ipython",
    "version": 3
   },
   "file_extension": ".py",
   "mimetype": "text/x-python",
   "name": "python",
   "nbconvert_exporter": "python",
   "pygments_lexer": "ipython3",
   "version": "3.10.5"
  },
  "orig_nbformat": 4
 },
 "nbformat": 4,
 "nbformat_minor": 2
}
